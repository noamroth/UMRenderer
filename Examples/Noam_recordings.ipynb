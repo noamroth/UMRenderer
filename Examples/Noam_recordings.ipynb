{
 "cells": [
  {
   "cell_type": "code",
   "execution_count": 4,
   "id": "ab18064c-ed63-491b-a4ba-1de2d47659cb",
   "metadata": {},
   "outputs": [],
   "source": [
    "import time\n",
    "import numpy as np\n",
    "#from ibllib.atlas.regions import BrainRegions\n",
    "#from one.api import ONE\n",
    "#import ibllib.atlas as atlas\n",
    "import pickle\n",
    "\n",
    "# have to do this because the Examples folder is below the unitymouse folder\n",
    "import sys\n",
    "sys.path.append(r'C:\\Users\\Steinmetz Lab User\\Documents\\GitHub\\analysis\\UMRenderer') \n",
    "import unitymouse.render as umr\n",
    "\n",
    "\"\"\"\n",
    "Display all trajectories in one single brain volume\n",
    "Author: Mayo, Gaelle, Dan\n",
    "\"\"\"\n",
    "\n",
    "import numpy as np\n",
    "\n",
    "#one = ONE()\n",
    "#ba = atlas.AllenAtlas(25)\n",
    "#traj_rep = one.alyx.rest('trajectories', 'list', provenance='Planned',\n",
    "    #x=-2243, y=-2000,  project='ibl_neuropixel_brainwide_01', use_cache=False)\n"
   ]
  },
  {
   "cell_type": "code",
   "execution_count": 6,
   "id": "f5fdf2b2-da13-44c6-aa2f-e0bc6ff34354",
   "metadata": {},
   "outputs": [],
   "source": [
    "# This block is only needed if you are re-running this from scratch, otherwise just load the .pkl file\n",
    "\n",
    "# data = {}\n",
    "\n",
    "# for traj in traj_rep:\n",
    "\n",
    "#     if traj['probe_insertion'] not in except_pid:\n",
    "#         temp_traj = one.alyx.rest('trajectories', 'list',\n",
    "#             provenance='Ephys aligned histology track',\n",
    "#             probe_insertion=traj['probe_insertion'], use_cache=False)\n",
    "#         if len(temp_traj) == 0:\n",
    "#             temp_traj = one.alyx.rest('trajectories', 'list', provenance='Histology track',\n",
    "#                 probe_insertion=traj['probe_insertion'], use_cache=False)\n",
    "\n",
    "#             if len(temp_traj) == 0:\n",
    "#                 continue\n",
    "\n",
    "#         if not temp_traj[0]['x']:\n",
    "#             continue\n",
    "\n",
    "#         ins = atlas.Insertion.from_dict(temp_traj[0])\n",
    "\n",
    "#         entry_coords = ba.xyz2ccf(ins.entry)\n",
    "#         tip_coords = ba.xyz2ccf(ins.tip)\n",
    "#         recording_size = np.sqrt(np.sum(np.power(entry_coords-tip_coords,2)))\n",
    "#         tip_angles = [ins.phi, ins.theta, ins.beta]\n",
    "#         data[traj['probe_insertion']] = (tip_coords, tip_angles, recording_size)\n",
    "    \n",
    "# pickle.dump(data,open( './ibl_repro_ephys_traj.pkl', \"wb\" ))"
   ]
  },
  {
   "cell_type": "code",
   "execution_count": 29,
   "id": "d67abece-1fbf-46cc-b333-af48aba23612",
   "metadata": {},
   "outputs": [
    {
     "ename": "ConnectionError",
     "evalue": "Already connected",
     "output_type": "error",
     "traceback": [
      "\u001b[1;31m---------------------------------------------------------------------------\u001b[0m",
      "\u001b[1;31mConnectionError\u001b[0m                           Traceback (most recent call last)",
      "\u001b[1;32m<ipython-input-29-c9e3e05191bb>\u001b[0m in \u001b[0;36m<module>\u001b[1;34m\u001b[0m\n\u001b[1;32m----> 1\u001b[1;33m \u001b[0mumr\u001b[0m\u001b[1;33m.\u001b[0m\u001b[0msetup\u001b[0m\u001b[1;33m(\u001b[0m\u001b[1;33m)\u001b[0m\u001b[1;33m\u001b[0m\u001b[1;33m\u001b[0m\u001b[0m\n\u001b[0m",
      "\u001b[1;32m~\\Documents\\GitHub\\analysis\\UMRenderer\\unitymouse\\render.py\u001b[0m in \u001b[0;36msetup\u001b[1;34m(localhost)\u001b[0m\n\u001b[0;32m     19\u001b[0m                 \u001b[0msio\u001b[0m\u001b[1;33m.\u001b[0m\u001b[0mconnect\u001b[0m\u001b[1;33m(\u001b[0m\u001b[1;34m'http://localhost:5000'\u001b[0m\u001b[1;33m)\u001b[0m\u001b[1;33m\u001b[0m\u001b[1;33m\u001b[0m\u001b[0m\n\u001b[0;32m     20\u001b[0m         \u001b[1;32melse\u001b[0m\u001b[1;33m:\u001b[0m\u001b[1;33m\u001b[0m\u001b[1;33m\u001b[0m\u001b[0m\n\u001b[1;32m---> 21\u001b[1;33m                 \u001b[0msio\u001b[0m\u001b[1;33m.\u001b[0m\u001b[0mconnect\u001b[0m\u001b[1;33m(\u001b[0m\u001b[1;34m'https://um-commserver.herokuapp.com/'\u001b[0m\u001b[1;33m)\u001b[0m\u001b[1;33m\u001b[0m\u001b[1;33m\u001b[0m\u001b[0m\n\u001b[0m\u001b[0;32m     22\u001b[0m \u001b[1;33m\u001b[0m\u001b[0m\n\u001b[0;32m     23\u001b[0m \u001b[1;32mdef\u001b[0m \u001b[0mclose\u001b[0m\u001b[1;33m(\u001b[0m\u001b[1;33m)\u001b[0m\u001b[1;33m:\u001b[0m\u001b[1;33m\u001b[0m\u001b[1;33m\u001b[0m\u001b[0m\n",
      "\u001b[1;32mC:\\Installs\\lib\\site-packages\\socketio\\client.py\u001b[0m in \u001b[0;36mconnect\u001b[1;34m(self, url, headers, auth, transports, namespaces, socketio_path, wait, wait_timeout)\u001b[0m\n\u001b[0;32m    304\u001b[0m         \"\"\"\n\u001b[0;32m    305\u001b[0m         \u001b[1;32mif\u001b[0m \u001b[0mself\u001b[0m\u001b[1;33m.\u001b[0m\u001b[0mconnected\u001b[0m\u001b[1;33m:\u001b[0m\u001b[1;33m\u001b[0m\u001b[1;33m\u001b[0m\u001b[0m\n\u001b[1;32m--> 306\u001b[1;33m             \u001b[1;32mraise\u001b[0m \u001b[0mexceptions\u001b[0m\u001b[1;33m.\u001b[0m\u001b[0mConnectionError\u001b[0m\u001b[1;33m(\u001b[0m\u001b[1;34m'Already connected'\u001b[0m\u001b[1;33m)\u001b[0m\u001b[1;33m\u001b[0m\u001b[1;33m\u001b[0m\u001b[0m\n\u001b[0m\u001b[0;32m    307\u001b[0m \u001b[1;33m\u001b[0m\u001b[0m\n\u001b[0;32m    308\u001b[0m         \u001b[0mself\u001b[0m\u001b[1;33m.\u001b[0m\u001b[0mconnection_url\u001b[0m \u001b[1;33m=\u001b[0m \u001b[0murl\u001b[0m\u001b[1;33m\u001b[0m\u001b[1;33m\u001b[0m\u001b[0m\n",
      "\u001b[1;31mConnectionError\u001b[0m: Already connected"
     ]
    }
   ],
   "source": [
    "umr.setup()"
   ]
  },
  {
   "cell_type": "code",
   "execution_count": 30,
   "id": "40e9eddd-2087-4501-a3e4-8f7f40ca5066",
   "metadata": {},
   "outputs": [],
   "source": [
    "data = pickle.load( open( r'C:\\Users\\Steinmetz Lab User\\Documents\\GitHub\\analysis\\recording_progress\\nr_traj.pkl', \"rb\" ) )\n"
   ]
  },
  {
   "cell_type": "code",
   "execution_count": 31,
   "id": "df5f8267",
   "metadata": {},
   "outputs": [
    {
     "data": {
      "text/plain": [
       "dict_keys(['18240281-d11e-45a6-808d-459069a43b73', '05dcca57-445b-4f0f-a9a5-50cf856a22c3', 'acdfd075-584b-44e6-bfa5-d2978557a49d', '4958e343-3278-401d-a624-4d2994f0ff85', '33a5c048-2762-4fdd-851e-095dc8af4f4d', '87e2715c-a422-40e6-bca3-c94fc45d9110', 'd8ff1218-75e1-4962-b920-98c40b9dea1a', '79bcfe47-33ed-4432-a598-66006b4cde56', '6d9d0ab9-fa20-476c-9c53-253dfe46db32', 'bccadffc-eb98-4be2-81a6-b405284317e5', 'eea9aef7-eebf-4635-adde-1bf4266131af', 'f362c84f-8d9a-4d5b-8439-055ae936fdff', 'df0e3518-a875-4ac3-b24b-0f2f3817006a', '485b50c8-71e1-4654-9a07-64395c15f5ed', '33cde267-919e-4c4d-9105-814787499837', '335d689e-4d98-4532-b01b-7f7da89863c4', '8c1cb0dd-4229-4c0f-8206-d4fe34bb3653', '59b7a543-8827-4157-a4f6-d5d0e50fdf39', '83716e49-3026-41a3-b021-1a4b6362f433', '81347b01-b2a2-4985-b1b1-436fb83049d1', '8933ee05-f1c5-48c9-91ce-c33cbf82ccd1', 'dac5defe-62b8-4cc0-96cb-b9f923957c7f', '80366013-66d3-40e6-9c4f-4fa98ab979c7', 'e9cf749b-85dc-4b59-834b-325cec608c48', 'f84f36c9-88f8-4d80-ba34-7f7a2b254ece'])"
      ]
     },
     "execution_count": 31,
     "metadata": {},
     "output_type": "execute_result"
    }
   ],
   "source": [
    "data.keys()"
   ]
  },
  {
   "cell_type": "code",
   "execution_count": 32,
   "id": "c9093d5c-26f1-40de-99a8-5ed2f4178758",
   "metadata": {},
   "outputs": [],
   "source": [
    "umr.clear()"
   ]
  },
  {
   "cell_type": "code",
   "execution_count": 33,
   "id": "4da99a77-a002-485d-af6c-f00d174b0034",
   "metadata": {},
   "outputs": [
    {
     "name": "stdout",
     "output_type": "stream",
     "text": [
      "UnityMouse Renderer disconnected from server\n",
      "UnityMouse Renderer connected to server\n",
      "Login sent with ID: Steinmetz Lab User\n",
      "UnityMouse Renderer disconnected from server\n",
      "UnityMouse Renderer connected to server\n",
      "Login sent with ID: Steinmetz Lab User\n"
     ]
    }
   ],
   "source": [
    "# TODO removing PID manually for sake of figure, but need to iron this out in Alyx\n",
    "except_pid = ['8b735d77-b77b-4243-8821-37802bf402fe',\n",
    "'94af9073-0914-4323-a90a-5eea1ef5f92c']\n",
    "\n",
    "# temp_traj_rep = [traj_rep[0]]\n",
    "count = 0\n",
    "\n",
    "for i, (pid, traj) in enumerate(data.items()):\n",
    "    tip_coords = traj[0]\n",
    "    tip_angles = traj[1]\n",
    "    recording_size = traj[2]\n",
    "    \n",
    "    probename = 'p'+str(count)\n",
    "    count+=1\n",
    "    umr.create_probes([probename])\n",
    "    umr.set_probe_positions({probename:tip_coords.tolist()})\n",
    "    umr.set_probe_colors({probename:'#F28C28'})\n",
    "    umr.set_probe_angles({probename:tip_angles})\n",
    "    umr.set_probe_size({probename:[0.07,recording_size/1000,0.02]})\n",
    "\n",
    "    '''\n",
    "vdata = {'VISa': True, 'CA1': True, 'DG': True, 'LP': True, 'PO': True}\n",
    "umr.set_volume_visibility(vdata)\n",
    "vdata = {'VISa': 'left', 'CA1': 'left', 'DG': 'left', 'LP': 'left', 'PO': 'left'}\n",
    "umr.set_volume_style(vdata)\n",
    "vdata = {'VISa': 'transparent-lit', 'CA1': 'transparent-lit', 'DG': 'transparent-lit', 'LP': 'transparent-lit', 'PO': 'transparent-lit'}\n",
    "umr.set_volume_shader(vdata)\n",
    "vdata = {'VISa': 0.4, 'CA1': 0.4, 'DG': 0.4, 'LP': 0.4, 'PO': 0.4}\n",
    "umr.set_volume_alpha(vdata)\n",
    "'''\n",
    "# for some reason 'root' doesn't work?\n",
    "umr.set_volume_visibility({8:True})\n",
    "umr.set_volume_shader({8:'transparent-unlit'})\n",
    "umr.set_volume_color({8:'#000000'})\n",
    "umr.set_volume_alpha({8:0.025})"
   ]
  },
  {
   "cell_type": "code",
   "execution_count": 24,
   "id": "0f1406e5-fe12-4198-843a-63614512a96f",
   "metadata": {},
   "outputs": [
    {
     "name": "stdout",
     "output_type": "stream",
     "text": [
      "UnityMouse Renderer disconnected from server\n"
     ]
    }
   ],
   "source": [
    "umr.close()"
   ]
  },
  {
   "cell_type": "code",
   "execution_count": null,
   "id": "06e2d89f-6838-4b26-acc4-0406adcf3962",
   "metadata": {},
   "outputs": [],
   "source": []
  }
 ],
 "metadata": {
  "kernelspec": {
   "display_name": "Python 3",
   "language": "python",
   "name": "python3"
  },
  "language_info": {
   "codemirror_mode": {
    "name": "ipython",
    "version": 3
   },
   "file_extension": ".py",
   "mimetype": "text/x-python",
   "name": "python",
   "nbconvert_exporter": "python",
   "pygments_lexer": "ipython3",
   "version": "3.7.4"
  }
 },
 "nbformat": 4,
 "nbformat_minor": 5
}
