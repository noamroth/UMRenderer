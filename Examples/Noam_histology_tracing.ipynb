{
 "cells": [
  {
   "cell_type": "code",
   "execution_count": 1,
   "id": "0fe3e009",
   "metadata": {},
   "outputs": [
    {
     "name": "stdout",
     "output_type": "stream",
     "text": [
      "Downloading: E:\\FlatIron\\tmpy4k5iuuo\\cache.zip Bytes: 91542162\n"
     ]
    },
    {
     "name": "stderr",
     "output_type": "stream",
     "text": [
      "100%|██████████████████████████████████████████████████████| 87.3014087677002/87.3014087677002 [00:06<00:00, 14.33it/s]\n"
     ]
    }
   ],
   "source": [
    "import json\n",
    "import sys\n",
    "import os\n",
    "import numpy as np\n",
    "import oursin as urn\n",
    "\n",
    "\n",
    "import numpy as np\n",
    "from one.api import ONE\n",
    "one = ONE()\n",
    "import ibllib.atlas as atlas\n",
    "ba = atlas.AllenAtlas(25)\n",
    "\n"
   ]
  },
  {
   "cell_type": "code",
   "execution_count": 2,
   "id": "f456b0e3",
   "metadata": {},
   "outputs": [
    {
     "name": "stdout",
     "output_type": "stream",
     "text": [
      "Number of trajectories in this mouse:  2\n"
     ]
    }
   ],
   "source": [
    "subject = 'NR_0023'\n",
    "\n",
    "traj_subj = one.alyx.rest('trajectories', 'list', subject=subject)\n",
    "except_pid = []\n",
    "print('Number of trajectories in this mouse: ',len(traj_subj))"
   ]
  },
  {
   "cell_type": "code",
   "execution_count": 3,
   "id": "b3fb7d71",
   "metadata": {},
   "outputs": [
    {
     "name": "stdout",
     "output_type": "stream",
     "text": [
      "(URN) connected to server\n",
      "Login sent with ID: noamroth\n"
     ]
    }
   ],
   "source": [
    "urn.setup()"
   ]
  },
  {
   "cell_type": "code",
   "execution_count": 11,
   "id": "f56eb221",
   "metadata": {},
   "outputs": [
    {
     "name": "stdout",
     "output_type": "stream",
     "text": [
      "Not able to display this trajectory, pid =  e28893ef-3c85-44e6-b2f6-56bfab39efc6\n"
     ]
    }
   ],
   "source": [
    "#Loop through all of the trajectories, get the entry/tip coordinates and angles, and plot\n",
    "\n",
    "count = 0\n",
    "for traj in traj_subj:\n",
    "\n",
    "    if traj['probe_insertion'] not in except_pid:\n",
    "        ins = atlas.Insertion.from_dict(traj)\n",
    "        try:            \n",
    "            entry_coords = ba.xyz2ccf(ins.entry)\n",
    "            tip_coords = ba.xyz2ccf(ins.tip)\n",
    "            recording_size = np.sqrt(np.sum(np.power(entry_coords-tip_coords,2)))\n",
    "            tip_angles = [ins.phi, ins.theta, ins.beta]\n",
    "        except:\n",
    "            print('Not able to display this trajectory, pid = ', traj['probe_insertion'])\n",
    "            continue\n",
    "            \n",
    "        probename = 'p'+str(count)\n",
    "        count+=1\n",
    "        urn.probes.create([probename])\n",
    "        urn.probes.set_position({probename:tip_coords.tolist()})\n",
    "        urn.probes.set_color({probename:'#F28C28'})\n",
    "        urn.probes.set_angle({probename:tip_angles})\n",
    "        urn.probes.set_size({probename:[0.07,recording_size/1000,0.02]})\n",
    "# umr.ccf.load_beryl()\n",
    "urn.ccf.set_visibility({\"grey\":True})\n",
    "urn.ccf.set_material({\"grey\":\"transparent-unlit\"})\n",
    "urn.ccf.set_alpha({\"grey\":0.025})"
   ]
  },
  {
   "cell_type": "code",
   "execution_count": null,
   "id": "187f6bd2",
   "metadata": {},
   "outputs": [],
   "source": []
  },
  {
   "cell_type": "code",
   "execution_count": null,
   "id": "3ec879a6",
   "metadata": {},
   "outputs": [],
   "source": []
  }
 ],
 "metadata": {
  "kernelspec": {
   "display_name": "Python 3 (ipykernel)",
   "language": "python",
   "name": "python3"
  },
  "language_info": {
   "codemirror_mode": {
    "name": "ipython",
    "version": 3
   },
   "file_extension": ".py",
   "mimetype": "text/x-python",
   "name": "python",
   "nbconvert_exporter": "python",
   "pygments_lexer": "ipython3",
   "version": "3.9.13"
  }
 },
 "nbformat": 4,
 "nbformat_minor": 5
}
