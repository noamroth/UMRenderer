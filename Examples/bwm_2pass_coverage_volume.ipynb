{
 "cells": [
  {
   "cell_type": "markdown",
   "id": "5e09e0a9-9728-4711-a244-5ec72f3f8f8d",
   "metadata": {},
   "source": [
    "# Brain Wide Map Coverage Example\n",
    "In this example we will compute the coverage of the current Brain Wide Map dataset and then display it as a 3D volume. We'll also position the camera so that you can animate the scene and record the brain rotating."
   ]
  },
  {
   "cell_type": "code",
   "execution_count": 33,
   "id": "d216df9b-18e7-4a1a-b02d-456cf1cadf92",
   "metadata": {},
   "outputs": [],
   "source": [
    "import nrrd\n",
    "import numpy as np\n",
    "import matplotlib.pyplot as plt\n",
    "import sys\n",
    "import unityneuro.render as urn"
   ]
  },
  {
   "cell_type": "markdown",
   "id": "856a8fd3-db9e-4feb-af17-40cd7add1b2c",
   "metadata": {
    "tags": []
   },
   "source": [
    "## Set up the Unity Renderer for Neuroscience and open the renderer webpage"
   ]
  },
  {
   "cell_type": "code",
   "execution_count": 35,
   "id": "730e7128-02c0-42b1-934b-e36cdb502873",
   "metadata": {},
   "outputs": [
    {
     "name": "stdout",
     "output_type": "stream",
     "text": [
      "(URN) disconnected from server\n"
     ]
    }
   ],
   "source": [
    "urn.close()"
   ]
  },
  {
   "cell_type": "code",
   "execution_count": 36,
   "id": "bde53df2-6e85-416a-b163-c4c703b4c164",
   "metadata": {},
   "outputs": [
    {
     "name": "stdout",
     "output_type": "stream",
     "text": [
      "(URN) connected to server\n",
      "Login sent with ID: Dan\n"
     ]
    }
   ],
   "source": [
    "urn.setup(standalone=True)"
   ]
  },
  {
   "cell_type": "markdown",
   "id": "306de929-9459-4315-bc36-e404659246a4",
   "metadata": {},
   "source": [
    "## Build the coverage map"
   ]
  },
  {
   "cell_type": "code",
   "execution_count": 37,
   "id": "3e24d684-d973-4e35-803d-4d33619fb972",
   "metadata": {},
   "outputs": [
    {
     "name": "stdout",
     "output_type": "stream",
     "text": [
      "13.97002649307251\n",
      "12.711416006088257\n",
      "0.03515338897705078\n",
      "22.444529056549072\n",
      "0.02453136444091797\n",
      "0.01300358772277832\n",
      "0.280397891998291\n",
      "0.06270051002502441\n",
      "0.0\n",
      "0.03656307129798903\n",
      "0.07312614259597806\n",
      "0.10968921389396709\n",
      "0.14625228519195613\n",
      "0.18281535648994515\n",
      "0.21937842778793418\n",
      "0.25594149908592323\n",
      "0.29250457038391225\n",
      "0.3290676416819013\n",
      "0.3656307129798903\n",
      "0.40219378427787933\n",
      "0.43875685557586835\n",
      "0.4753199268738574\n",
      "0.5118829981718465\n",
      "0.5484460694698354\n",
      "0.5850091407678245\n",
      "0.6215722120658135\n",
      "0.6581352833638026\n",
      "0.6946983546617916\n",
      "0.7312614259597806\n",
      "0.7678244972577697\n",
      "0.8043875685557587\n",
      "0.8409506398537477\n",
      "0.8775137111517367\n",
      "0.9140767824497258\n",
      "0.9506398537477148\n",
      "0.9872029250457038\n"
     ]
    }
   ],
   "source": [
    "from needles2.probe_model import ProbeModel\n",
    "\n",
    "# we'll use the 25um atlas\n",
    "res = 25\n",
    "pr = ProbeModel(res=res)\n",
    "pr.initialise()\n",
    "pr.compute_best_for_provenance(provenance='Histology track')\n",
    "# we'll compute coverage assuming each probe covers a 100um window?\n",
    "coverage = pr.report_coverage(provenance='Best', dist=300)\n",
    "# by default this comes out in ap/ml/dv, swap to ap/dv/lr\n",
    "coverage = coverage.swapaxes(1,2)"
   ]
  },
  {
   "cell_type": "markdown",
   "id": "69c70a53-c994-4bb0-97c4-00d837211df9",
   "metadata": {},
   "source": [
    "### Convenience functions to save/load the volume if you want to save time"
   ]
  },
  {
   "cell_type": "code",
   "execution_count": 38,
   "id": "3448f125-8c84-4074-97e5-49edeef9125b",
   "metadata": {},
   "outputs": [],
   "source": [
    "# np.save('./data/gaelle/coverage.npy',coverage)"
   ]
  },
  {
   "cell_type": "code",
   "execution_count": null,
   "id": "2f572392-c06d-4801-bb83-5f60e9d0825f",
   "metadata": {},
   "outputs": [],
   "source": [
    "#coverage = np.load('./data/gaelle/coverage.npy')"
   ]
  },
  {
   "cell_type": "markdown",
   "id": "69b82484-b1da-4969-ad04-1f74c66f363a",
   "metadata": {},
   "source": [
    "## Plot a test slice to make sure the coverage computed properly"
   ]
  },
  {
   "cell_type": "code",
   "execution_count": 39,
   "id": "48e23edf-2f27-4f92-8486-64c20835897e",
   "metadata": {
    "tags": []
   },
   "outputs": [
    {
     "data": {
      "text/plain": [
       "<matplotlib.image.AxesImage at 0x13e20c13eb0>"
      ]
     },
     "execution_count": 39,
     "metadata": {},
     "output_type": "execute_result"
    },
    {
     "data": {
      "image/png": "[encoded data removed]",
      "text/plain": [
       "<Figure size 432x288 with 1 Axes>"
      ]
     },
     "metadata": {
      "needs_background": "light"
     },
     "output_type": "display_data"
    }
   ],
   "source": [
    "plt.imshow(coverage[240,:,:])"
   ]
  },
  {
   "cell_type": "markdown",
   "id": "06639a0f-4fcf-4a45-8434-6bacd9250d54",
   "metadata": {},
   "source": [
    "## Send to URN for display (can take a minute or two)"
   ]
  },
  {
   "cell_type": "code",
   "execution_count": 40,
   "id": "56fae9b4-9f7c-484c-a9b8-38d8413ec83c",
   "metadata": {},
   "outputs": [
    {
     "name": "stdout",
     "output_type": "stream",
     "text": [
      "(URN) disconnected from server\n",
      "(URN) connected to server\n",
      "Login sent with ID: Dan\n"
     ]
    }
   ],
   "source": [
    "urn.clear()\n",
    "urn.create_volume(\"coverage\")\n",
    "urn.set_volume_colormap(\"coverage\", [\"#00000080\", \"#FFFF00FF\", \"#00FF00FF\"])\n",
    "urn.set_volume_data(\"coverage\", coverage)\n",
    "urn.set_volume_visibility(\"coverage\",True)"
   ]
  },
  {
   "cell_type": "code",
   "execution_count": 43,
   "id": "d3eb48e0-8c03-4192-8621-cec740a5f9ae",
   "metadata": {},
   "outputs": [
    {
     "name": "stderr",
     "output_type": "stream",
     "text": [
      "packet queue is empty, aborting\n"
     ]
    },
    {
     "name": "stdout",
     "output_type": "stream",
     "text": [
      "(URN) disconnected from server\n",
      "(URN) connected to server\n",
      "Login sent with ID: Dan\n"
     ]
    },
    {
     "name": "stderr",
     "output_type": "stream",
     "text": [
      "packet queue is empty, aborting\n"
     ]
    },
    {
     "name": "stdout",
     "output_type": "stream",
     "text": [
      "(URN) disconnected from server\n",
      "(URN) connected to server\n",
      "Login sent with ID: Dan\n",
      "(URN) disconnected from server\n",
      "(URN) connected to server\n",
      "Login sent with ID: Dan\n"
     ]
    },
    {
     "name": "stderr",
     "output_type": "stream",
     "text": [
      "packet queue is empty, aborting\n"
     ]
    },
    {
     "name": "stdout",
     "output_type": "stream",
     "text": [
      "(URN) disconnected from server\n",
      "(URN) connected to server\n",
      "Login sent with ID: Dan\n"
     ]
    },
    {
     "name": "stderr",
     "output_type": "stream",
     "text": [
      "packet queue is empty, aborting\n"
     ]
    },
    {
     "name": "stdout",
     "output_type": "stream",
     "text": [
      "(URN) disconnected from server\n",
      "(URN) connected to server\n",
      "Login sent with ID: Dan\n"
     ]
    },
    {
     "name": "stderr",
     "output_type": "stream",
     "text": [
      "packet queue is empty, aborting\n"
     ]
    },
    {
     "name": "stdout",
     "output_type": "stream",
     "text": [
      "(URN) disconnected from server\n",
      "(URN) connected to server\n",
      "Login sent with ID: Dan\n"
     ]
    },
    {
     "name": "stderr",
     "output_type": "stream",
     "text": [
      "packet queue is empty, aborting\n"
     ]
    },
    {
     "name": "stdout",
     "output_type": "stream",
     "text": [
      "(URN) disconnected from server\n",
      "(URN) connected to server\n",
      "Login sent with ID: Dan\n",
      "(URN) disconnected from server\n",
      "(URN) connected to server\n",
      "Login sent with ID: Dan\n",
      "(URN) disconnected from server\n",
      "(URN) connected to server\n",
      "Login sent with ID: Dan\n",
      "(URN) disconnected from server\n",
      "(URN) connected to server\n",
      "Login sent with ID: Dan\n"
     ]
    }
   ],
   "source": [
    "# set the camera angle for making a rotation video\n",
    "urn.set_camera_rotation([45,0,0])"
   ]
  },
  {
   "cell_type": "code",
   "execution_count": null,
   "id": "1d2df207-e090-48f3-8ad5-5f45086de4be",
   "metadata": {},
   "outputs": [],
   "source": []
  }
 ],
 "metadata": {
  "kernelspec": {
   "display_name": "Python 3 (ipykernel)",
   "language": "python",
   "name": "python3"
  },
  "language_info": {
   "codemirror_mode": {
    "name": "ipython",
    "version": 3
   },
   "file_extension": ".py",
   "mimetype": "text/x-python",
   "name": "python",
   "nbconvert_exporter": "python",
   "pygments_lexer": "ipython3",
   "version": "3.9.9"
  }
 },
 "nbformat": 4,
 "nbformat_minor": 5
}
